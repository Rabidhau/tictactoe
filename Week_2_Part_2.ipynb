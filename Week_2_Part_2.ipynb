{
  "cells": [
    {
      "cell_type": "markdown",
      "metadata": {
        "id": "view-in-github",
        "colab_type": "text"
      },
      "source": [
        "<a href=\"https://colab.research.google.com/github/Rabidhau/tictactoe/blob/main/Week_2_Part_2.ipynb\" target=\"_parent\"><img src=\"https://colab.research.google.com/assets/colab-badge.svg\" alt=\"Open In Colab\"/></a>"
      ]
    },
    {
      "cell_type": "markdown",
      "id": "6260c42c",
      "metadata": {
        "id": "6260c42c"
      },
      "source": [
        "### Functions"
      ]
    },
    {
      "cell_type": "code",
      "execution_count": null,
      "id": "5b1f9123",
      "metadata": {
        "id": "5b1f9123"
      },
      "outputs": [],
      "source": [
        "# function definition\n",
        "'''\n",
        "def function_name(function parameter):\n",
        "    function body\n",
        "    return statement\n",
        "'''\n",
        "\n",
        "def addition(a,b):\n",
        "    return a+b\n"
      ]
    },
    {
      "cell_type": "code",
      "execution_count": null,
      "id": "a5aa753f",
      "metadata": {
        "id": "a5aa753f",
        "colab": {
          "base_uri": "https://localhost:8080/"
        },
        "outputId": "0127d6c0-7273-49a3-b61e-ded6cc01a2ac"
      },
      "outputs": [
        {
          "output_type": "execute_result",
          "data": {
            "text/plain": [
              "0.5"
            ]
          },
          "metadata": {},
          "execution_count": 6
        }
      ],
      "source": [
        "addition(10,20) # call"
      ]
    },
    {
      "cell_type": "markdown",
      "id": "c9d5595f",
      "metadata": {
        "id": "c9d5595f"
      },
      "source": [
        "**1) Write a function called \"greeting\" that takes the name of the user and greets \"Hello {{name}} nice to meet you\"**"
      ]
    },
    {
      "cell_type": "code",
      "execution_count": null,
      "id": "55d0c5b0",
      "metadata": {
        "id": "55d0c5b0"
      },
      "outputs": [],
      "source": [
        "def greeting(name):\n",
        "    return f\"Hello {name} nice to meet you!\"\n",
        "\n",
        "greeting('Akash')"
      ]
    },
    {
      "cell_type": "markdown",
      "id": "c3002a82",
      "metadata": {
        "id": "c3002a82"
      },
      "source": [
        "**2) Create a function `sumnum` that takes a number as a parameter and outputs the sum of natural numbers upto that number**"
      ]
    },
    {
      "cell_type": "code",
      "execution_count": null,
      "id": "4ae90d32",
      "metadata": {
        "id": "4ae90d32",
        "outputId": "384dbbe1-58ae-48cb-b3df-dc6ffa78b3b6"
      },
      "outputs": [
        {
          "name": "stdout",
          "output_type": "stream",
          "text": [
            "5050\n"
          ]
        }
      ],
      "source": [
        "a = 100\n",
        "s = 0\n",
        "for i in range(1, a+1):\n",
        "    s = s + i\n",
        "print(s)"
      ]
    },
    {
      "cell_type": "code",
      "execution_count": null,
      "id": "16f7e3bf",
      "metadata": {
        "id": "16f7e3bf"
      },
      "outputs": [],
      "source": [
        "def sumnum(number):\n",
        "    c = 0\n",
        "    for i in range(1,number+1):\n",
        "        c = c+i\n",
        "    return c"
      ]
    },
    {
      "cell_type": "code",
      "execution_count": null,
      "id": "4763b7fb",
      "metadata": {
        "id": "4763b7fb",
        "outputId": "456cd217-c05f-4ae5-c939-0f5f3714e030"
      },
      "outputs": [
        {
          "name": "stdout",
          "output_type": "stream",
          "text": [
            "5050\n"
          ]
        }
      ],
      "source": [
        "x = sumnum(100) # call\n",
        "print(x)"
      ]
    },
    {
      "cell_type": "code",
      "execution_count": null,
      "id": "02427349",
      "metadata": {
        "id": "02427349"
      },
      "outputs": [],
      "source": []
    },
    {
      "cell_type": "markdown",
      "id": "13490e6d",
      "metadata": {
        "id": "13490e6d"
      },
      "source": [
        "### Here are a few exercise questions related to Python functions:\n",
        "1) Write a function called \"greeting\" that takes the `firstname` and `lastname` of the user and greets, for eg: \"Hello `Ram` `Kumar` nice to meet you\"\n",
        "2) Create a function `sumnum` that takes a number as a parameter and outputs the sum of even numbers upto that number.    \n",
        "\n",
        "**Also, lets try**\n",
        "- odd even => function name `oddeven()`\n",
        "- positive negative => function name `posneg()`\n",
        "- count character => function name `countchar()`\n",
        "- grading problem => `grading()`\n",
        "- bmi problem => `bmi()`  \n",
        "```\n",
        "Below 18.5\n",
        "Underweight\n",
        "18.5 to 24.9\n",
        "Normal weight\n",
        "25 to 29.9\n",
        "Overweight\n",
        "30 to 34.9\n",
        "Obese\n",
        "35 to 39.9\n",
        "Very obese\n",
        "Above 40\n",
        "Extremely obese\n",
        "```\n",
        "\n",
        "- Using an f-string print the following with `table()` function\n",
        "```The value of 13 * 1 is 13\n",
        "The value of 13 * 2 is 26\n",
        "The value of 13 * 3 is 39\n",
        "...\n",
        "The value of 13 * 10 is 130\n",
        "```"
      ]
    },
    {
      "cell_type": "markdown",
      "id": "655ada66",
      "metadata": {
        "id": "655ada66"
      },
      "source": [
        "- sum of all the elements of list\n",
        "- sum of all the elements of list using function\n",
        "- max from list\n",
        "- max from list using function\n",
        "- min from list\n",
        "- min from list using function"
      ]
    },
    {
      "cell_type": "markdown",
      "id": "0ae40cf9",
      "metadata": {
        "scrolled": true,
        "id": "0ae40cf9"
      },
      "source": [
        "Question 1: Write a function called `count_occurrences` that takes a list of words and a target word as input. The function should return the number of times the target word appears in the list.\n",
        "\n",
        "Question 2: Write a function called `remove_duplicates` that takes a list as input and returns a new list with duplicates removed. The order of the elements should be preserved.\n",
        "\n",
        "Question 3: Write a function called `print_even_numbers` that takes a list of numbers as input. The function should print only the even numbers in the list.\n",
        "\n",
        "Question 4: Write a function called `multiply_list` that takes a list of numbers as input and returns a new list where each element is multiplied by 2.\n",
        "\n",
        "Question 5: Write a function called `print_square_numbers` that takes a number as input. The function should print the square of each number from 1 to the input number using a loop.\n"
      ]
    },
    {
      "cell_type": "code",
      "execution_count": null,
      "id": "e2202d80",
      "metadata": {
        "id": "e2202d80"
      },
      "outputs": [],
      "source": []
    },
    {
      "cell_type": "markdown",
      "id": "d5324982",
      "metadata": {
        "id": "d5324982"
      },
      "source": [
        "**[EXTRA CONTENT] Anonymous functions or `lambda`**  \n",
        "A lambda function can take any number of arguments, but can only have one expression."
      ]
    },
    {
      "cell_type": "code",
      "execution_count": null,
      "id": "7e4b5fcc",
      "metadata": {
        "id": "7e4b5fcc"
      },
      "outputs": [],
      "source": [
        "x = lambda a : a + 10"
      ]
    },
    {
      "cell_type": "code",
      "execution_count": null,
      "id": "13666a4d",
      "metadata": {
        "id": "13666a4d",
        "outputId": "cd513bf0-d5eb-46f7-f230-44426dddb513",
        "colab": {
          "base_uri": "https://localhost:8080/"
        }
      },
      "outputs": [
        {
          "output_type": "execute_result",
          "data": {
            "text/plain": [
              "15"
            ]
          },
          "metadata": {},
          "execution_count": 2
        }
      ],
      "source": [
        "x(5)"
      ]
    },
    {
      "cell_type": "code",
      "execution_count": null,
      "id": "8c781f9e",
      "metadata": {
        "id": "8c781f9e"
      },
      "outputs": [],
      "source": [
        "x = lambda a, b: a**b;"
      ]
    },
    {
      "cell_type": "code",
      "execution_count": null,
      "id": "2dddaf62",
      "metadata": {
        "id": "2dddaf62"
      },
      "outputs": [],
      "source": [
        "x(10,10)"
      ]
    },
    {
      "cell_type": "markdown",
      "id": "29895f0f",
      "metadata": {
        "id": "29895f0f"
      },
      "source": [
        "The power of lambda is seen when you use them as an anonymous function inside another function."
      ]
    },
    {
      "cell_type": "code",
      "execution_count": null,
      "id": "ae96d792",
      "metadata": {
        "id": "ae96d792"
      },
      "outputs": [],
      "source": [
        "def myfunc(n):\n",
        "    return lambda a : a * n"
      ]
    },
    {
      "cell_type": "code",
      "execution_count": null,
      "id": "cef71437",
      "metadata": {
        "id": "cef71437"
      },
      "outputs": [],
      "source": [
        "doubleit = myfunc(2) # return lambda a : a * 2"
      ]
    },
    {
      "cell_type": "code",
      "execution_count": null,
      "id": "eef7e5a0",
      "metadata": {
        "id": "eef7e5a0"
      },
      "outputs": [],
      "source": [
        "doubleit(100)"
      ]
    },
    {
      "cell_type": "code",
      "execution_count": null,
      "id": "34e48bd9",
      "metadata": {
        "id": "34e48bd9"
      },
      "outputs": [],
      "source": [
        "tripleit = myfunc(3) # return lambda a : a * 3"
      ]
    },
    {
      "cell_type": "code",
      "execution_count": null,
      "id": "55b41845",
      "metadata": {
        "id": "55b41845"
      },
      "outputs": [],
      "source": [
        "tripleit(100)"
      ]
    },
    {
      "cell_type": "markdown",
      "id": "d18c527a",
      "metadata": {
        "id": "d18c527a"
      },
      "source": [
        "https://cs.stanford.edu/people/nick/py/python-map-lambda.html"
      ]
    },
    {
      "cell_type": "code",
      "execution_count": null,
      "id": "fa276f3e",
      "metadata": {
        "id": "fa276f3e"
      },
      "outputs": [],
      "source": []
    }
  ],
  "metadata": {
    "kernelspec": {
      "display_name": "Python 3 (ipykernel)",
      "language": "python",
      "name": "python3"
    },
    "language_info": {
      "codemirror_mode": {
        "name": "ipython",
        "version": 3
      },
      "file_extension": ".py",
      "mimetype": "text/x-python",
      "name": "python",
      "nbconvert_exporter": "python",
      "pygments_lexer": "ipython3",
      "version": "3.10.11"
    },
    "colab": {
      "provenance": [],
      "include_colab_link": true
    }
  },
  "nbformat": 4,
  "nbformat_minor": 5
}